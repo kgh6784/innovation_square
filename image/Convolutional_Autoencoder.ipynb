{
  "nbformat": 4,
  "nbformat_minor": 0,
  "metadata": {
    "colab": {
      "name": "Convolutional_Autoencoder.ipynb",
      "provenance": [],
      "collapsed_sections": []
    },
    "kernelspec": {
      "name": "python2",
      "display_name": "Python 2"
    },
    "accelerator": "GPU"
  },
  "cells": [
    {
      "cell_type": "code",
      "metadata": {
        "id": "elKZAac0IAlt",
        "colab_type": "code",
        "outputId": "70541c24-4551-471d-a6a7-8bfad6b8e942",
        "colab": {
          "base_uri": "https://localhost:8080/",
          "height": 88
        }
      },
      "source": [
        "from keras.datasets import mnist\n",
        "import numpy as np\n",
        "\n",
        "(x_train, _), (x_test, _) = mnist.load_data()\n",
        "\n",
        "x_train = x_train.astype('float32') / 255.\n",
        "x_test = x_test.astype('float32') / 255.\n",
        "x_train = np.reshape(x_train, (len(x_train), 28, 28, 1))  # adapt this if using `channels_first` image data format\n",
        "x_test = np.reshape(x_test, (len(x_test), 28, 28, 1))  # adapt this if using `channels_first` image data format"
      ],
      "execution_count": 0,
      "outputs": [
        {
          "output_type": "stream",
          "text": [
            "Using TensorFlow backend.\n"
          ],
          "name": "stderr"
        },
        {
          "output_type": "stream",
          "text": [
            "Downloading data from https://s3.amazonaws.com/img-datasets/mnist.npz\n",
            "11493376/11490434 [==============================] - 1s 0us/step\n",
            "11501568/11490434 [==============================] - 1s 0us/step\n"
          ],
          "name": "stdout"
        }
      ]
    },
    {
      "cell_type": "code",
      "metadata": {
        "id": "r1J2XfmAIFod",
        "colab_type": "code",
        "outputId": "0ff39a3e-ebf0-4dd1-de07-f33a776fef22",
        "colab": {
          "base_uri": "https://localhost:8080/",
          "height": 1000
        }
      },
      "source": [
        "from keras.layers import Input, Dense, Conv2D, MaxPooling2D, UpSampling2D\n",
        "from keras.models import Model\n",
        "from keras import backend as K\n",
        "\n",
        "input_img = Input(shape=(28, 28, 1))  # adapt this if using `channels_first` image data format\n",
        "\n",
        "x = Conv2D(16, (3, 3), activation='relu', padding='same')(input_img)\n",
        "# batch, 28, 28, 16\n",
        "x = MaxPooling2D((2, 2), padding='same')(x)\n",
        "# batch, 14, 14, 16\n",
        "x = Conv2D(8, (3, 3), activation='relu', padding='same')(x)\n",
        "# batch, 14, 14, 8\n",
        "x = MaxPooling2D((2, 2), padding='same')(x)\n",
        "# batch, 7, 7, 8\n",
        "x = Conv2D(8, (3, 3), activation='relu', padding='same')(x)\n",
        "# batch, 7, 7, 8\n",
        "encoded = MaxPooling2D((2, 2), padding='same')(x)\n",
        "# batch, 4, 4, 8\n",
        "\n",
        "x = Conv2D(8, (3, 3), activation='relu', padding='same')(encoded)\n",
        "# batch, 4, 4, 8\n",
        "x = UpSampling2D((2, 2))(x)\n",
        "# batch, 8, 8, 8\n",
        "x = Conv2D(16, (3, 3), activation='relu', padding='same')(x)\n",
        "# batch, 8, 8, 8\n",
        "x = UpSampling2D((2, 2))(x)\n",
        "# batch, 16, 16, 8\n",
        "x = Conv2D(32, (3, 3), activation='relu')(x)\n",
        "# batch, 14, 14, 16\n",
        "x = UpSampling2D((2, 2))(x)\n",
        "# batch, 28, 28, 16\n",
        "decoded = Conv2D(1, (3, 3), activation='sigmoid', padding='same')(x)\n",
        "# batch, 28, 28, 1\n",
        "autoencoder = Model(input_img, decoded)\n",
        "autoencoder.compile(optimizer='adadelta', loss='binary_crossentropy')\n",
        "\n",
        "autoencoder.summary()"
      ],
      "execution_count": 0,
      "outputs": [
        {
          "output_type": "stream",
          "text": [
            "WARNING: Logging before flag parsing goes to stderr.\n",
            "W0919 11:29:39.804888 139819298563968 deprecation_wrapper.py:119] From /usr/local/lib/python2.7/dist-packages/keras/backend/tensorflow_backend.py:74: The name tf.get_default_graph is deprecated. Please use tf.compat.v1.get_default_graph instead.\n",
            "\n",
            "W0919 11:29:39.845254 139819298563968 deprecation_wrapper.py:119] From /usr/local/lib/python2.7/dist-packages/keras/backend/tensorflow_backend.py:517: The name tf.placeholder is deprecated. Please use tf.compat.v1.placeholder instead.\n",
            "\n",
            "W0919 11:29:39.854515 139819298563968 deprecation_wrapper.py:119] From /usr/local/lib/python2.7/dist-packages/keras/backend/tensorflow_backend.py:4138: The name tf.random_uniform is deprecated. Please use tf.random.uniform instead.\n",
            "\n",
            "W0919 11:29:39.880929 139819298563968 deprecation_wrapper.py:119] From /usr/local/lib/python2.7/dist-packages/keras/backend/tensorflow_backend.py:3976: The name tf.nn.max_pool is deprecated. Please use tf.nn.max_pool2d instead.\n",
            "\n",
            "W0919 11:29:40.021493 139819298563968 deprecation_wrapper.py:119] From /usr/local/lib/python2.7/dist-packages/keras/backend/tensorflow_backend.py:2018: The name tf.image.resize_nearest_neighbor is deprecated. Please use tf.compat.v1.image.resize_nearest_neighbor instead.\n",
            "\n",
            "W0919 11:29:40.074043 139819298563968 deprecation_wrapper.py:119] From /usr/local/lib/python2.7/dist-packages/keras/optimizers.py:790: The name tf.train.Optimizer is deprecated. Please use tf.compat.v1.train.Optimizer instead.\n",
            "\n",
            "W0919 11:29:40.092806 139819298563968 deprecation_wrapper.py:119] From /usr/local/lib/python2.7/dist-packages/keras/backend/tensorflow_backend.py:3376: The name tf.log is deprecated. Please use tf.math.log instead.\n",
            "\n",
            "W0919 11:29:40.099548 139819298563968 deprecation.py:323] From /usr/local/lib/python2.7/dist-packages/tensorflow/python/ops/nn_impl.py:180: where (from tensorflow.python.ops.array_ops) is deprecated and will be removed in a future version.\n",
            "Instructions for updating:\n",
            "Use tf.where in 2.0, which has the same broadcast rule as np.where\n"
          ],
          "name": "stderr"
        },
        {
          "output_type": "stream",
          "text": [
            "_________________________________________________________________\n",
            "Layer (type)                 Output Shape              Param #   \n",
            "=================================================================\n",
            "input_1 (InputLayer)         (None, 28, 28, 1)         0         \n",
            "_________________________________________________________________\n",
            "conv2d_1 (Conv2D)            (None, 28, 28, 16)        160       \n",
            "_________________________________________________________________\n",
            "max_pooling2d_1 (MaxPooling2 (None, 14, 14, 16)        0         \n",
            "_________________________________________________________________\n",
            "conv2d_2 (Conv2D)            (None, 14, 14, 8)         1160      \n",
            "_________________________________________________________________\n",
            "max_pooling2d_2 (MaxPooling2 (None, 7, 7, 8)           0         \n",
            "_________________________________________________________________\n",
            "conv2d_3 (Conv2D)            (None, 7, 7, 8)           584       \n",
            "_________________________________________________________________\n",
            "max_pooling2d_3 (MaxPooling2 (None, 4, 4, 8)           0         \n",
            "_________________________________________________________________\n",
            "conv2d_4 (Conv2D)            (None, 4, 4, 8)           584       \n",
            "_________________________________________________________________\n",
            "up_sampling2d_1 (UpSampling2 (None, 8, 8, 8)           0         \n",
            "_________________________________________________________________\n",
            "conv2d_5 (Conv2D)            (None, 8, 8, 8)           584       \n",
            "_________________________________________________________________\n",
            "up_sampling2d_2 (UpSampling2 (None, 16, 16, 8)         0         \n",
            "_________________________________________________________________\n",
            "conv2d_6 (Conv2D)            (None, 14, 14, 16)        1168      \n",
            "_________________________________________________________________\n",
            "up_sampling2d_3 (UpSampling2 (None, 28, 28, 16)        0         \n",
            "_________________________________________________________________\n",
            "conv2d_7 (Conv2D)            (None, 28, 28, 1)         145       \n",
            "=================================================================\n",
            "Total params: 4,385\n",
            "Trainable params: 4,385\n",
            "Non-trainable params: 0\n",
            "_________________________________________________________________\n"
          ],
          "name": "stdout"
        }
      ]
    },
    {
      "cell_type": "code",
      "metadata": {
        "id": "Gj7pNdSvIHZD",
        "colab_type": "code",
        "outputId": "3c82a544-75fd-4bb7-dd46-dff83cf36f21",
        "colab": {
          "base_uri": "https://localhost:8080/",
          "height": 1000
        }
      },
      "source": [
        "autoencoder.fit(x_train, x_train,\n",
        "                epochs=50,\n",
        "                batch_size=128,\n",
        "                shuffle=True,\n",
        "                validation_data=(x_test, x_test))"
      ],
      "execution_count": 0,
      "outputs": [
        {
          "output_type": "stream",
          "text": [
            "W0919 12:04:56.601378 139819298563968 deprecation_wrapper.py:119] From /usr/local/lib/python2.7/dist-packages/keras/backend/tensorflow_backend.py:986: The name tf.assign_add is deprecated. Please use tf.compat.v1.assign_add instead.\n",
            "\n"
          ],
          "name": "stderr"
        },
        {
          "output_type": "stream",
          "text": [
            "Train on 60000 samples, validate on 10000 samples\n",
            "Epoch 1/50\n",
            "60000/60000 [==============================] - 14s 232us/step - loss: 0.2040 - val_loss: 0.1633\n",
            "Epoch 2/50\n",
            "60000/60000 [==============================] - 7s 114us/step - loss: 0.1534 - val_loss: 0.1445\n",
            "Epoch 3/50\n",
            "60000/60000 [==============================] - 7s 114us/step - loss: 0.1390 - val_loss: 0.1350\n",
            "Epoch 4/50\n",
            "60000/60000 [==============================] - 7s 113us/step - loss: 0.1309 - val_loss: 0.1312\n",
            "Epoch 5/50\n",
            "60000/60000 [==============================] - 7s 113us/step - loss: 0.1255 - val_loss: 0.1208\n",
            "Epoch 6/50\n",
            "60000/60000 [==============================] - 7s 113us/step - loss: 0.1216 - val_loss: 0.1173\n",
            "Epoch 7/50\n",
            "60000/60000 [==============================] - 7s 112us/step - loss: 0.1184 - val_loss: 0.1163\n",
            "Epoch 8/50\n",
            "60000/60000 [==============================] - 7s 113us/step - loss: 0.1164 - val_loss: 0.1124\n",
            "Epoch 9/50\n",
            "60000/60000 [==============================] - 7s 112us/step - loss: 0.1143 - val_loss: 0.1115\n",
            "Epoch 10/50\n",
            "60000/60000 [==============================] - 7s 112us/step - loss: 0.1127 - val_loss: 0.1128\n",
            "Epoch 11/50\n",
            "60000/60000 [==============================] - 7s 113us/step - loss: 0.1116 - val_loss: 0.1136\n",
            "Epoch 12/50\n",
            "60000/60000 [==============================] - 7s 112us/step - loss: 0.1101 - val_loss: 0.1089\n",
            "Epoch 13/50\n",
            "60000/60000 [==============================] - 7s 113us/step - loss: 0.1094 - val_loss: 0.1092\n",
            "Epoch 14/50\n",
            "60000/60000 [==============================] - 7s 113us/step - loss: 0.1084 - val_loss: 0.1053\n",
            "Epoch 15/50\n",
            "60000/60000 [==============================] - 7s 112us/step - loss: 0.1076 - val_loss: 0.1032\n",
            "Epoch 16/50\n",
            "60000/60000 [==============================] - 7s 113us/step - loss: 0.1069 - val_loss: 0.1019\n",
            "Epoch 17/50\n",
            "60000/60000 [==============================] - 7s 112us/step - loss: 0.1061 - val_loss: 0.1060\n",
            "Epoch 18/50\n",
            "60000/60000 [==============================] - 7s 113us/step - loss: 0.1057 - val_loss: 0.1038\n",
            "Epoch 19/50\n",
            "60000/60000 [==============================] - 7s 113us/step - loss: 0.1049 - val_loss: 0.1034\n",
            "Epoch 20/50\n",
            "60000/60000 [==============================] - 7s 113us/step - loss: 0.1044 - val_loss: 0.1025\n",
            "Epoch 21/50\n",
            "60000/60000 [==============================] - 7s 112us/step - loss: 0.1042 - val_loss: 0.1045\n",
            "Epoch 22/50\n",
            "60000/60000 [==============================] - 7s 113us/step - loss: 0.1035 - val_loss: 0.1008\n",
            "Epoch 23/50\n",
            "60000/60000 [==============================] - 7s 113us/step - loss: 0.1032 - val_loss: 0.1022\n",
            "Epoch 24/50\n",
            "60000/60000 [==============================] - 7s 113us/step - loss: 0.1030 - val_loss: 0.1024\n",
            "Epoch 25/50\n",
            "60000/60000 [==============================] - 7s 113us/step - loss: 0.1028 - val_loss: 0.1022\n",
            "Epoch 26/50\n",
            "60000/60000 [==============================] - 7s 112us/step - loss: 0.1024 - val_loss: 0.0994\n",
            "Epoch 27/50\n",
            "60000/60000 [==============================] - 7s 115us/step - loss: 0.1019 - val_loss: 0.1011\n",
            "Epoch 28/50\n",
            "60000/60000 [==============================] - 7s 115us/step - loss: 0.1016 - val_loss: 0.1013\n",
            "Epoch 29/50\n",
            "60000/60000 [==============================] - 7s 113us/step - loss: 0.1012 - val_loss: 0.1013\n",
            "Epoch 30/50\n",
            "60000/60000 [==============================] - 7s 113us/step - loss: 0.1011 - val_loss: 0.0994\n",
            "Epoch 31/50\n",
            "60000/60000 [==============================] - 7s 114us/step - loss: 0.1010 - val_loss: 0.0982\n",
            "Epoch 32/50\n",
            "60000/60000 [==============================] - 7s 113us/step - loss: 0.1007 - val_loss: 0.0979\n",
            "Epoch 33/50\n",
            "60000/60000 [==============================] - 7s 113us/step - loss: 0.1006 - val_loss: 0.1024\n",
            "Epoch 34/50\n",
            "60000/60000 [==============================] - 7s 112us/step - loss: 0.1003 - val_loss: 0.1008\n",
            "Epoch 35/50\n",
            "60000/60000 [==============================] - 7s 113us/step - loss: 0.0998 - val_loss: 0.0998\n",
            "Epoch 36/50\n",
            "60000/60000 [==============================] - 7s 114us/step - loss: 0.0998 - val_loss: 0.0988\n",
            "Epoch 37/50\n",
            "60000/60000 [==============================] - 7s 113us/step - loss: 0.0996 - val_loss: 0.0984\n",
            "Epoch 38/50\n",
            "60000/60000 [==============================] - 7s 116us/step - loss: 0.0995 - val_loss: 0.0994\n",
            "Epoch 39/50\n",
            "60000/60000 [==============================] - 7s 113us/step - loss: 0.0992 - val_loss: 0.0985\n",
            "Epoch 40/50\n",
            "60000/60000 [==============================] - 7s 113us/step - loss: 0.0993 - val_loss: 0.0991\n",
            "Epoch 41/50\n",
            "60000/60000 [==============================] - 7s 113us/step - loss: 0.0989 - val_loss: 0.0969\n",
            "Epoch 42/50\n",
            "60000/60000 [==============================] - 7s 112us/step - loss: 0.0989 - val_loss: 0.0978\n",
            "Epoch 43/50\n",
            "60000/60000 [==============================] - 7s 113us/step - loss: 0.0988 - val_loss: 0.0961\n",
            "Epoch 44/50\n",
            "60000/60000 [==============================] - 7s 112us/step - loss: 0.0987 - val_loss: 0.0964\n",
            "Epoch 45/50\n",
            "60000/60000 [==============================] - 7s 113us/step - loss: 0.0984 - val_loss: 0.0944\n",
            "Epoch 46/50\n",
            "60000/60000 [==============================] - 7s 113us/step - loss: 0.0982 - val_loss: 0.0981\n",
            "Epoch 47/50\n",
            "60000/60000 [==============================] - 7s 113us/step - loss: 0.0983 - val_loss: 0.0951\n",
            "Epoch 48/50\n",
            "60000/60000 [==============================] - 7s 113us/step - loss: 0.0981 - val_loss: 0.0984\n",
            "Epoch 49/50\n",
            "60000/60000 [==============================] - 7s 113us/step - loss: 0.0977 - val_loss: 0.0964\n",
            "Epoch 50/50\n",
            "60000/60000 [==============================] - 7s 112us/step - loss: 0.0977 - val_loss: 0.0966\n"
          ],
          "name": "stdout"
        },
        {
          "output_type": "execute_result",
          "data": {
            "text/plain": [
              "<keras.callbacks.History at 0x7f29deaed650>"
            ]
          },
          "metadata": {
            "tags": []
          },
          "execution_count": 3
        }
      ]
    },
    {
      "cell_type": "code",
      "metadata": {
        "id": "iJbNhcWhIMtj",
        "colab_type": "code",
        "colab": {}
      },
      "source": [
        "decoded_imgs = autoencoder.predict(x_test)"
      ],
      "execution_count": 0,
      "outputs": []
    },
    {
      "cell_type": "code",
      "metadata": {
        "id": "q-My4z1VI6ls",
        "colab_type": "code",
        "outputId": "8ab20ad6-48a6-4b41-b713-0006836b7f32",
        "colab": {
          "base_uri": "https://localhost:8080/",
          "height": 271
        }
      },
      "source": [
        "# use Matplotlib (don't ask)\n",
        "import matplotlib.pyplot as plt\n",
        "\n",
        "n = 10  # how many digits we will display\n",
        "plt.figure(figsize=(20, 4))\n",
        "for i in range(n):\n",
        "    # display original\n",
        "    ax = plt.subplot(2, n, i + 1)\n",
        "    plt.imshow(x_test[i].reshape(28, 28))\n",
        "    plt.gray()\n",
        "    ax.get_xaxis().set_visible(False)\n",
        "    ax.get_yaxis().set_visible(False)\n",
        "\n",
        "    # display reconstruction\n",
        "    ax = plt.subplot(2, n, i + 1 + n)\n",
        "    plt.imshow(decoded_imgs[i].reshape(28, 28))\n",
        "    plt.gray()\n",
        "    ax.get_xaxis().set_visible(False)\n",
        "    ax.get_yaxis().set_visible(False)\n",
        "plt.show()"
      ],
      "execution_count": 0,
      "outputs": [
        {
          "output_type": "display_data",
          "data": {
            "image/png": "[encoded data removed]",
            "text/plain": [
              "<Figure size 1440x288 with 20 Axes>"
            ]
          },
          "metadata": {
            "tags": []
          }
        }
      ]
    },
    {
      "cell_type": "code",
      "metadata": {
        "id": "gCTZgppsJo_T",
        "colab_type": "code",
        "colab": {}
      },
      "source": [
        ""
      ],
      "execution_count": 0,
      "outputs": []
    }
  ]
}