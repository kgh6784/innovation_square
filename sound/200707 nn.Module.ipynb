{
 "cells": [
  {
   "cell_type": "code",
   "execution_count": 1,
   "metadata": {},
   "outputs": [],
   "source": [
    "import torch\n",
    "import torch.nn as nn\n",
    "import torch.nn.functional as F\n",
    "import torch.optim as optim"
   ]
  },
  {
   "cell_type": "markdown",
   "metadata": {},
   "source": [
    "pytorch의 대부분의 구현체들은 대부분 모델을 생성할 때 `class`를 사용한다."
   ]
  },
  {
   "cell_type": "markdown",
   "metadata": {},
   "source": [
    "- class 형태의 모델은 nn.Module을 상속받는다. 그리고 `__init__()`에서 모델의 구조와 동적을 정의하는 생성자를 정의한다. 이는 파이썬에서 객체가 갖는 속성값을 초기화하는 역할로, 객체가 생성될 때 자동으로 호출된다.\n",
    "- `super()` 함수를 부르면 여기서 만든 클래서는 nn.Module 클래스의 속성들을 가지고 초기화된다.\n",
    "- `forward()` 함수는 모델이 학습데이터를 입력 받아서 forward 연산을 진행시키는 함수이다. model 객체를 데이터와 함께 호출하면 자동으로 실행이 된다"
   ]
  },
  {
   "cell_type": "code",
   "execution_count": 2,
   "metadata": {},
   "outputs": [],
   "source": [
    "class LinearRegressionModel(nn.Module):\n",
    "    def __init__(self):\n",
    "        super().__init__()\n",
    "        self.linear = nn.Linear(1, 1)\n",
    "\n",
    "    def forward(self, x):\n",
    "        return self.linear(x)"
   ]
  },
  {
   "cell_type": "code",
   "execution_count": 3,
   "metadata": {},
   "outputs": [],
   "source": [
    "# (1,1) => (3,1)\n",
    "class MultivariateLinearRegressionModel(nn.Module):\n",
    "    def __init__(self):\n",
    "        super().__init__()\n",
    "        self.linear = nn.Linear(3, 1)\n",
    "\n",
    "    def forward(self, x):\n",
    "        return self.linear(x)"
   ]
  },
  {
   "cell_type": "code",
   "execution_count": 4,
   "metadata": {},
   "outputs": [],
   "source": [
    "model1 = LinearRegressionModel()\n",
    "model2 = MultivariateLinearRegressionModel()"
   ]
  },
  {
   "cell_type": "code",
   "execution_count": 7,
   "metadata": {},
   "outputs": [
    {
     "name": "stdout",
     "output_type": "stream",
     "text": [
      "Epoch    0/20 Cost: 9459.677734\n",
      "Epoch    1/20 Cost: 2965.795898\n",
      "Epoch    2/20 Cost: 930.308716\n",
      "Epoch    3/20 Cost: 292.290680\n",
      "Epoch    4/20 Cost: 92.305420\n",
      "Epoch    5/20 Cost: 29.620960\n",
      "Epoch    6/20 Cost: 9.972215\n",
      "Epoch    7/20 Cost: 3.813189\n",
      "Epoch    8/20 Cost: 1.882437\n",
      "Epoch    9/20 Cost: 1.276977\n",
      "Epoch   10/20 Cost: 1.086977\n",
      "Epoch   11/20 Cost: 1.027190\n",
      "Epoch   12/20 Cost: 1.008207\n",
      "Epoch   13/20 Cost: 1.002014\n",
      "Epoch   14/20 Cost: 0.999837\n",
      "Epoch   15/20 Cost: 0.998917\n",
      "Epoch   16/20 Cost: 0.998400\n",
      "Epoch   17/20 Cost: 0.997981\n",
      "Epoch   18/20 Cost: 0.997630\n",
      "Epoch   19/20 Cost: 0.997270\n",
      "Epoch   20/20 Cost: 0.996929\n"
     ]
    }
   ],
   "source": [
    "# 데이터\n",
    "x_train = torch.FloatTensor([[73, 80, 75],\n",
    "                             [93, 88, 93],\n",
    "                             [89, 91, 90],\n",
    "                             [96, 98, 100],\n",
    "                             [73, 66, 70]])\n",
    "y_train = torch.FloatTensor([[152], [185], [180], [196], [142]])\n",
    "# 모델 초기화\n",
    "model2 = MultivariateLinearRegressionModel()\n",
    "# optimizer 설정\n",
    "optimizer = optim.SGD(model2.parameters(), lr=1e-5)\n",
    "\n",
    "nb_epochs = 20\n",
    "for epoch in range(nb_epochs+1):\n",
    "    \n",
    "    # H(x) 계산\n",
    "    prediction = model2(x_train)\n",
    "    \n",
    "    # cost 계산\n",
    "    cost = F.mse_loss(prediction, y_train)\n",
    "    \n",
    "    # cost로 H(x) 개선\n",
    "    optimizer.zero_grad()\n",
    "    cost.backward()\n",
    "    optimizer.step()\n",
    "    \n",
    "    # 20번마다 로그 출력\n",
    "    print('Epoch {:4d}/{} Cost: {:.6f}'.format(\n",
    "        epoch, nb_epochs, cost.item()\n",
    "    ))"
   ]
  },
  {
   "cell_type": "code",
   "execution_count": null,
   "metadata": {},
   "outputs": [],
   "source": []
  }
 ],
 "metadata": {
  "kernelspec": {
   "display_name": "Python 3",
   "language": "python",
   "name": "python3"
  },
  "language_info": {
   "codemirror_mode": {
    "name": "ipython",
    "version": 3
   },
   "file_extension": ".py",
   "mimetype": "text/x-python",
   "name": "python",
   "nbconvert_exporter": "python",
   "pygments_lexer": "ipython3",
   "version": "3.6.7"
  }
 },
 "nbformat": 4,
 "nbformat_minor": 2
}
